{
 "metadata": {
  "language_info": {
   "codemirror_mode": {
    "name": "ipython",
    "version": 3
   },
   "file_extension": ".py",
   "mimetype": "text/x-python",
   "name": "python",
   "nbconvert_exporter": "python",
   "pygments_lexer": "ipython3",
   "version": "3.8.3-final"
  },
  "orig_nbformat": 2,
  "kernelspec": {
   "name": "Python 3.8.3 64-bit",
   "display_name": "Python 3.8.3 64-bit",
   "metadata": {
    "interpreter": {
     "hash": "bc744bf36f45ff7bd3b0ebafda52b31b6c48c96286efbf90fe3cb91ccc1b4516"
    }
   }
  }
 },
 "nbformat": 4,
 "nbformat_minor": 2,
 "cells": [
  {
   "cell_type": "code",
   "execution_count": 1,
   "metadata": {
    "tags": []
   },
   "outputs": [
    {
     "output_type": "stream",
     "name": "stdout",
     "text": [
      "Requirement already satisfied: numpy in c:\\users\\natya\\appdata\\local\\programs\\python\\python38\\lib\\site-packages (1.19.2)\n",
      "Note: you may need to restart the kernel to use updated packages.\n",
      "WARNING: You are using pip version 20.1.1; however, version 20.2.3 is available.\n",
      "You should consider upgrading via the 'C:\\Users\\natya\\AppData\\Local\\Programs\\Python\\Python38\\python.exe -m pip install --upgrade pip' command.\n"
     ]
    }
   ],
   "source": [
    "pip install numpy"
   ]
  },
  {
   "cell_type": "code",
   "execution_count": 2,
   "metadata": {
    "tags": []
   },
   "outputs": [
    {
     "output_type": "stream",
     "name": "stdout",
     "text": [
      "Requirement already satisfied: pandas in c:\\users\\natya\\appdata\\local\\programs\\python\\python38\\lib\\site-packages (1.1.2)\n",
      "Requirement already satisfied: python-dateutil>=2.7.3 in c:\\users\\natya\\appdata\\local\\programs\\python\\python38\\lib\\site-packages (from pandas) (2.8.1)Note: you may need to restart the kernel to use updated packages.\n",
      "Requirement already satisfied: numpy>=1.15.4 in c:\\users\\natya\\appdata\\local\\programs\\python\\python38\\lib\\site-packages (from pandas) (1.19.2)\n",
      "\n",
      "WARNING: You are using pip version 20.1.1; however, version 20.2.3 is available.\n",
      "You should consider upgrading via the 'C:\\Users\\natya\\AppData\\Local\\Programs\\Python\\Python38\\python.exe -m pip install --upgrade pip' command.\n",
      "Requirement already satisfied: pytz>=2017.2 in c:\\users\\natya\\appdata\\local\\programs\\python\\python38\\lib\\site-packages (from pandas) (2020.1)\n",
      "Requirement already satisfied: six>=1.5 in c:\\users\\natya\\appdata\\roaming\\python\\python38\\site-packages (from python-dateutil>=2.7.3->pandas) (1.15.0)\n"
     ]
    }
   ],
   "source": [
    "pip install pandas"
   ]
  },
  {
   "cell_type": "code",
   "execution_count": 3,
   "metadata": {},
   "outputs": [],
   "source": [
    "import numpy as np\n",
    "import pandas as pd"
   ]
  },
  {
   "source": [
    "## 1. Dataset Airbnb\n",
    "### Objetivo: \n",
    "Predecir correctamente los precios de arriendo de los alojamientos airbnb en la ciudad de Boston\n"
   ],
   "cell_type": "markdown",
   "metadata": {}
  },
  {
   "cell_type": "code",
   "execution_count": 4,
   "metadata": {
    "tags": []
   },
   "outputs": [
    {
     "output_type": "stream",
     "name": "stdout",
     "text": [
      "<class 'pandas.core.frame.DataFrame'>\nRangeIndex: 3585 entries, 0 to 3584\nData columns (total 95 columns):\n #   Column                            Non-Null Count  Dtype  \n---  ------                            --------------  -----  \n 0   id                                3585 non-null   int64  \n 1   listing_url                       3585 non-null   object \n 2   scrape_id                         3585 non-null   int64  \n 3   last_scraped                      3585 non-null   object \n 4   name                              3585 non-null   object \n 5   summary                           3442 non-null   object \n 6   space                             2528 non-null   object \n 7   description                       3585 non-null   object \n 8   experiences_offered               3585 non-null   object \n 9   neighborhood_overview             2170 non-null   object \n 10  notes                             1610 non-null   object \n 11  transit                           2295 non-null   object \n 12  access                            2096 non-null   object \n 13  interaction                       2031 non-null   object \n 14  house_rules                       2393 non-null   object \n 15  thumbnail_url                     2986 non-null   object \n 16  medium_url                        2986 non-null   object \n 17  picture_url                       3585 non-null   object \n 18  xl_picture_url                    2986 non-null   object \n 19  host_id                           3585 non-null   int64  \n 20  host_url                          3585 non-null   object \n 21  host_name                         3585 non-null   object \n 22  host_since                        3585 non-null   object \n 23  host_location                     3574 non-null   object \n 24  host_about                        2276 non-null   object \n 25  host_response_time                3114 non-null   object \n 26  host_response_rate                3114 non-null   object \n 27  host_acceptance_rate              3114 non-null   object \n 28  host_is_superhost                 3585 non-null   object \n 29  host_thumbnail_url                3585 non-null   object \n 30  host_picture_url                  3585 non-null   object \n 31  host_neighbourhood                3246 non-null   object \n 32  host_listings_count               3585 non-null   int64  \n 33  host_total_listings_count         3585 non-null   int64  \n 34  host_verifications                3585 non-null   object \n 35  host_has_profile_pic              3585 non-null   object \n 36  host_identity_verified            3585 non-null   object \n 37  street                            3585 non-null   object \n 38  neighbourhood                     3042 non-null   object \n 39  neighbourhood_cleansed            3585 non-null   object \n 40  neighbourhood_group_cleansed      0 non-null      float64\n 41  city                              3583 non-null   object \n 42  state                             3585 non-null   object \n 43  zipcode                           3547 non-null   object \n 44  market                            3571 non-null   object \n 45  smart_location                    3585 non-null   object \n 46  country_code                      3585 non-null   object \n 47  country                           3585 non-null   object \n 48  latitude                          3585 non-null   float64\n 49  longitude                         3585 non-null   float64\n 50  is_location_exact                 3585 non-null   object \n 51  property_type                     3582 non-null   object \n 52  room_type                         3585 non-null   object \n 53  accommodates                      3585 non-null   int64  \n 54  bathrooms                         3571 non-null   float64\n 55  bedrooms                          3575 non-null   float64\n 56  beds                              3576 non-null   float64\n 57  bed_type                          3585 non-null   object \n 58  amenities                         3585 non-null   object \n 59  square_feet                       56 non-null     float64\n 60  price                             3585 non-null   object \n 61  weekly_price                      892 non-null    object \n 62  monthly_price                     888 non-null    object \n 63  security_deposit                  1342 non-null   object \n 64  cleaning_fee                      2478 non-null   object \n 65  guests_included                   3585 non-null   int64  \n 66  extra_people                      3585 non-null   object \n 67  minimum_nights                    3585 non-null   int64  \n 68  maximum_nights                    3585 non-null   int64  \n 69  calendar_updated                  3585 non-null   object \n 70  has_availability                  0 non-null      float64\n 71  availability_30                   3585 non-null   int64  \n 72  availability_60                   3585 non-null   int64  \n 73  availability_90                   3585 non-null   int64  \n 74  availability_365                  3585 non-null   int64  \n 75  calendar_last_scraped             3585 non-null   object \n 76  number_of_reviews                 3585 non-null   int64  \n 77  first_review                      2829 non-null   object \n 78  last_review                       2829 non-null   object \n 79  review_scores_rating              2772 non-null   float64\n 80  review_scores_accuracy            2762 non-null   float64\n 81  review_scores_cleanliness         2767 non-null   float64\n 82  review_scores_checkin             2765 non-null   float64\n 83  review_scores_communication       2767 non-null   float64\n 84  review_scores_location            2763 non-null   float64\n 85  review_scores_value               2764 non-null   float64\n 86  requires_license                  3585 non-null   object \n 87  license                           0 non-null      float64\n 88  jurisdiction_names                0 non-null      float64\n 89  instant_bookable                  3585 non-null   object \n 90  cancellation_policy               3585 non-null   object \n 91  require_guest_profile_picture     3585 non-null   object \n 92  require_guest_phone_verification  3585 non-null   object \n 93  calculated_host_listings_count    3585 non-null   int64  \n 94  reviews_per_month                 2829 non-null   float64\ndtypes: float64(18), int64(15), object(62)\nmemory usage: 2.6+ MB\n"
     ]
    }
   ],
   "source": [
    "airbnb_dataset = pd.read_csv(\"listings_airbnb.csv\", sep = \",\", na_values = \"unknown\", encoding='latin-1')\n",
    "airbnb_dataset.info()"
   ]
  },
  {
   "cell_type": "code",
   "execution_count": 5,
   "metadata": {},
   "outputs": [],
   "source": [
    "airbnb_missing=pd.DataFrame({'column':airbnb_dataset.isna().sum().index, 'missing_values':((airbnb_dataset.isna().sum()/3585)*100).values})"
   ]
  },
  {
   "cell_type": "code",
   "execution_count": 6,
   "metadata": {},
   "outputs": [
    {
     "output_type": "execute_result",
     "data": {
      "text/plain": [
       "                              column  missing_values\n",
       "0                                 id        0.000000\n",
       "1                        listing_url        0.000000\n",
       "2                          scrape_id        0.000000\n",
       "3                       last_scraped        0.000000\n",
       "4                               name        0.000000\n",
       "..                               ...             ...\n",
       "90               cancellation_policy        0.000000\n",
       "91     require_guest_profile_picture        0.000000\n",
       "92  require_guest_phone_verification        0.000000\n",
       "93    calculated_host_listings_count        0.000000\n",
       "94                 reviews_per_month       21.087866\n",
       "\n",
       "[95 rows x 2 columns]"
      ],
      "text/html": "<div>\n<style scoped>\n    .dataframe tbody tr th:only-of-type {\n        vertical-align: middle;\n    }\n\n    .dataframe tbody tr th {\n        vertical-align: top;\n    }\n\n    .dataframe thead th {\n        text-align: right;\n    }\n</style>\n<table border=\"1\" class=\"dataframe\">\n  <thead>\n    <tr style=\"text-align: right;\">\n      <th></th>\n      <th>column</th>\n      <th>missing_values</th>\n    </tr>\n  </thead>\n  <tbody>\n    <tr>\n      <th>0</th>\n      <td>id</td>\n      <td>0.000000</td>\n    </tr>\n    <tr>\n      <th>1</th>\n      <td>listing_url</td>\n      <td>0.000000</td>\n    </tr>\n    <tr>\n      <th>2</th>\n      <td>scrape_id</td>\n      <td>0.000000</td>\n    </tr>\n    <tr>\n      <th>3</th>\n      <td>last_scraped</td>\n      <td>0.000000</td>\n    </tr>\n    <tr>\n      <th>4</th>\n      <td>name</td>\n      <td>0.000000</td>\n    </tr>\n    <tr>\n      <th>...</th>\n      <td>...</td>\n      <td>...</td>\n    </tr>\n    <tr>\n      <th>90</th>\n      <td>cancellation_policy</td>\n      <td>0.000000</td>\n    </tr>\n    <tr>\n      <th>91</th>\n      <td>require_guest_profile_picture</td>\n      <td>0.000000</td>\n    </tr>\n    <tr>\n      <th>92</th>\n      <td>require_guest_phone_verification</td>\n      <td>0.000000</td>\n    </tr>\n    <tr>\n      <th>93</th>\n      <td>calculated_host_listings_count</td>\n      <td>0.000000</td>\n    </tr>\n    <tr>\n      <th>94</th>\n      <td>reviews_per_month</td>\n      <td>21.087866</td>\n    </tr>\n  </tbody>\n</table>\n<p>95 rows × 2 columns</p>\n</div>"
     },
     "metadata": {},
     "execution_count": 6
    }
   ],
   "source": [
    "airbnb_missing"
   ]
  },
  {
   "cell_type": "code",
   "execution_count": 7,
   "metadata": {},
   "outputs": [],
   "source": [
    "indexNames = airbnb_missing[~(airbnb_missing['missing_values'] != 0)].index \n",
    "airbnb_missing.drop(indexNames , inplace=True)"
   ]
  },
  {
   "cell_type": "code",
   "execution_count": 8,
   "metadata": {},
   "outputs": [
    {
     "output_type": "execute_result",
     "data": {
      "text/plain": [
       "                          column  missing_values\n",
       "5                        summary        3.988842\n",
       "6                          space       29.483961\n",
       "9          neighborhood_overview       39.470014\n",
       "10                         notes       55.090656\n",
       "11                       transit       35.983264\n",
       "12                        access       41.534170\n",
       "13                   interaction       43.347280\n",
       "14                   house_rules       33.249651\n",
       "15                 thumbnail_url       16.708508\n",
       "16                    medium_url       16.708508\n",
       "18                xl_picture_url       16.708508\n",
       "23                 host_location        0.306834\n",
       "24                    host_about       36.513250\n",
       "25            host_response_time       13.138075\n",
       "26            host_response_rate       13.138075\n",
       "27          host_acceptance_rate       13.138075\n",
       "31            host_neighbourhood        9.456067\n",
       "38                 neighbourhood       15.146444\n",
       "40  neighbourhood_group_cleansed      100.000000\n",
       "41                          city        0.055788\n",
       "43                       zipcode        1.059972\n",
       "44                        market        0.390516\n",
       "51                 property_type        0.083682\n",
       "54                     bathrooms        0.390516\n",
       "55                      bedrooms        0.278940\n",
       "56                          beds        0.251046\n",
       "59                   square_feet       98.437936\n",
       "61                  weekly_price       75.118550\n",
       "62                 monthly_price       75.230126\n",
       "63              security_deposit       62.566248\n",
       "64                  cleaning_fee       30.878661\n",
       "70              has_availability      100.000000\n",
       "77                  first_review       21.087866\n",
       "78                   last_review       21.087866\n",
       "79          review_scores_rating       22.677824\n",
       "80        review_scores_accuracy       22.956764\n",
       "81     review_scores_cleanliness       22.817294\n",
       "82         review_scores_checkin       22.873082\n",
       "83   review_scores_communication       22.817294\n",
       "84        review_scores_location       22.928870\n",
       "85           review_scores_value       22.900976\n",
       "87                       license      100.000000\n",
       "88            jurisdiction_names      100.000000\n",
       "94             reviews_per_month       21.087866"
      ],
      "text/html": "<div>\n<style scoped>\n    .dataframe tbody tr th:only-of-type {\n        vertical-align: middle;\n    }\n\n    .dataframe tbody tr th {\n        vertical-align: top;\n    }\n\n    .dataframe thead th {\n        text-align: right;\n    }\n</style>\n<table border=\"1\" class=\"dataframe\">\n  <thead>\n    <tr style=\"text-align: right;\">\n      <th></th>\n      <th>column</th>\n      <th>missing_values</th>\n    </tr>\n  </thead>\n  <tbody>\n    <tr>\n      <th>5</th>\n      <td>summary</td>\n      <td>3.988842</td>\n    </tr>\n    <tr>\n      <th>6</th>\n      <td>space</td>\n      <td>29.483961</td>\n    </tr>\n    <tr>\n      <th>9</th>\n      <td>neighborhood_overview</td>\n      <td>39.470014</td>\n    </tr>\n    <tr>\n      <th>10</th>\n      <td>notes</td>\n      <td>55.090656</td>\n    </tr>\n    <tr>\n      <th>11</th>\n      <td>transit</td>\n      <td>35.983264</td>\n    </tr>\n    <tr>\n      <th>12</th>\n      <td>access</td>\n      <td>41.534170</td>\n    </tr>\n    <tr>\n      <th>13</th>\n      <td>interaction</td>\n      <td>43.347280</td>\n    </tr>\n    <tr>\n      <th>14</th>\n      <td>house_rules</td>\n      <td>33.249651</td>\n    </tr>\n    <tr>\n      <th>15</th>\n      <td>thumbnail_url</td>\n      <td>16.708508</td>\n    </tr>\n    <tr>\n      <th>16</th>\n      <td>medium_url</td>\n      <td>16.708508</td>\n    </tr>\n    <tr>\n      <th>18</th>\n      <td>xl_picture_url</td>\n      <td>16.708508</td>\n    </tr>\n    <tr>\n      <th>23</th>\n      <td>host_location</td>\n      <td>0.306834</td>\n    </tr>\n    <tr>\n      <th>24</th>\n      <td>host_about</td>\n      <td>36.513250</td>\n    </tr>\n    <tr>\n      <th>25</th>\n      <td>host_response_time</td>\n      <td>13.138075</td>\n    </tr>\n    <tr>\n      <th>26</th>\n      <td>host_response_rate</td>\n      <td>13.138075</td>\n    </tr>\n    <tr>\n      <th>27</th>\n      <td>host_acceptance_rate</td>\n      <td>13.138075</td>\n    </tr>\n    <tr>\n      <th>31</th>\n      <td>host_neighbourhood</td>\n      <td>9.456067</td>\n    </tr>\n    <tr>\n      <th>38</th>\n      <td>neighbourhood</td>\n      <td>15.146444</td>\n    </tr>\n    <tr>\n      <th>40</th>\n      <td>neighbourhood_group_cleansed</td>\n      <td>100.000000</td>\n    </tr>\n    <tr>\n      <th>41</th>\n      <td>city</td>\n      <td>0.055788</td>\n    </tr>\n    <tr>\n      <th>43</th>\n      <td>zipcode</td>\n      <td>1.059972</td>\n    </tr>\n    <tr>\n      <th>44</th>\n      <td>market</td>\n      <td>0.390516</td>\n    </tr>\n    <tr>\n      <th>51</th>\n      <td>property_type</td>\n      <td>0.083682</td>\n    </tr>\n    <tr>\n      <th>54</th>\n      <td>bathrooms</td>\n      <td>0.390516</td>\n    </tr>\n    <tr>\n      <th>55</th>\n      <td>bedrooms</td>\n      <td>0.278940</td>\n    </tr>\n    <tr>\n      <th>56</th>\n      <td>beds</td>\n      <td>0.251046</td>\n    </tr>\n    <tr>\n      <th>59</th>\n      <td>square_feet</td>\n      <td>98.437936</td>\n    </tr>\n    <tr>\n      <th>61</th>\n      <td>weekly_price</td>\n      <td>75.118550</td>\n    </tr>\n    <tr>\n      <th>62</th>\n      <td>monthly_price</td>\n      <td>75.230126</td>\n    </tr>\n    <tr>\n      <th>63</th>\n      <td>security_deposit</td>\n      <td>62.566248</td>\n    </tr>\n    <tr>\n      <th>64</th>\n      <td>cleaning_fee</td>\n      <td>30.878661</td>\n    </tr>\n    <tr>\n      <th>70</th>\n      <td>has_availability</td>\n      <td>100.000000</td>\n    </tr>\n    <tr>\n      <th>77</th>\n      <td>first_review</td>\n      <td>21.087866</td>\n    </tr>\n    <tr>\n      <th>78</th>\n      <td>last_review</td>\n      <td>21.087866</td>\n    </tr>\n    <tr>\n      <th>79</th>\n      <td>review_scores_rating</td>\n      <td>22.677824</td>\n    </tr>\n    <tr>\n      <th>80</th>\n      <td>review_scores_accuracy</td>\n      <td>22.956764</td>\n    </tr>\n    <tr>\n      <th>81</th>\n      <td>review_scores_cleanliness</td>\n      <td>22.817294</td>\n    </tr>\n    <tr>\n      <th>82</th>\n      <td>review_scores_checkin</td>\n      <td>22.873082</td>\n    </tr>\n    <tr>\n      <th>83</th>\n      <td>review_scores_communication</td>\n      <td>22.817294</td>\n    </tr>\n    <tr>\n      <th>84</th>\n      <td>review_scores_location</td>\n      <td>22.928870</td>\n    </tr>\n    <tr>\n      <th>85</th>\n      <td>review_scores_value</td>\n      <td>22.900976</td>\n    </tr>\n    <tr>\n      <th>87</th>\n      <td>license</td>\n      <td>100.000000</td>\n    </tr>\n    <tr>\n      <th>88</th>\n      <td>jurisdiction_names</td>\n      <td>100.000000</td>\n    </tr>\n    <tr>\n      <th>94</th>\n      <td>reviews_per_month</td>\n      <td>21.087866</td>\n    </tr>\n  </tbody>\n</table>\n</div>"
     },
     "metadata": {},
     "execution_count": 8
    }
   ],
   "source": [
    "airbnb_missing"
   ]
  },
  {
   "source": [
    "## 2. Dataset Enfermedades en puestos de tecnología\n",
    "### Objetivo: Predecir los empleados qué tienen una enfermedad mental (qué variables influyen más en su condición mental)\n"
   ],
   "cell_type": "markdown",
   "metadata": {}
  },
  {
   "cell_type": "code",
   "execution_count": 9,
   "metadata": {
    "tags": []
   },
   "outputs": [
    {
     "output_type": "stream",
     "name": "stdout",
     "text": [
      "<class 'pandas.core.frame.DataFrame'>\nRangeIndex: 1259 entries, 0 to 1258\nData columns (total 27 columns):\n #   Column                     Non-Null Count  Dtype \n---  ------                     --------------  ----- \n 0   Timestamp                  1259 non-null   object\n 1   Age                        1259 non-null   int64 \n 2   Gender                     1259 non-null   object\n 3   Country                    1259 non-null   object\n 4   state                      744 non-null    object\n 5   self_employed              1241 non-null   object\n 6   family_history             1259 non-null   object\n 7   treatment                  1259 non-null   object\n 8   work_interfere             995 non-null    object\n 9   no_employees               1259 non-null   object\n 10  remote_work                1259 non-null   object\n 11  tech_company               1259 non-null   object\n 12  benefits                   1259 non-null   object\n 13  care_options               1259 non-null   object\n 14  wellness_program           1259 non-null   object\n 15  seek_help                  1259 non-null   object\n 16  anonymity                  1259 non-null   object\n 17  leave                      1259 non-null   object\n 18  mental_health_consequence  1259 non-null   object\n 19  phys_health_consequence    1259 non-null   object\n 20  coworkers                  1259 non-null   object\n 21  supervisor                 1259 non-null   object\n 22  mental_health_interview    1259 non-null   object\n 23  phys_health_interview      1259 non-null   object\n 24  mental_vs_physical         1259 non-null   object\n 25  obs_consequence            1259 non-null   object\n 26  comments                   164 non-null    object\ndtypes: int64(1), object(26)\nmemory usage: 265.7+ KB\n"
     ]
    }
   ],
   "source": [
    "mental_health_dataset = pd.read_csv(\"enfermedadesMentales_tecnologia.csv\", sep = \",\", na_values = \"unknown\", encoding='latin-1')\n",
    "mental_health_dataset.info()"
   ]
  },
  {
   "cell_type": "code",
   "execution_count": 10,
   "metadata": {},
   "outputs": [],
   "source": [
    "mental_health_missing=pd.DataFrame({'column':mental_health_dataset.isna().sum().index, 'missing_values':((mental_health_dataset.isna().sum()/1259)*100).values})"
   ]
  },
  {
   "cell_type": "code",
   "execution_count": 11,
   "metadata": {},
   "outputs": [],
   "source": [
    "indexNames = mental_health_missing[~(mental_health_missing['missing_values'] != 0)].index \n",
    "mental_health_missing.drop(indexNames , inplace=True)"
   ]
  },
  {
   "cell_type": "code",
   "execution_count": 12,
   "metadata": {},
   "outputs": [
    {
     "output_type": "execute_result",
     "data": {
      "text/plain": [
       "            column  missing_values\n",
       "4            state       40.905481\n",
       "5    self_employed        1.429706\n",
       "8   work_interfere       20.969023\n",
       "26        comments       86.973789"
      ],
      "text/html": "<div>\n<style scoped>\n    .dataframe tbody tr th:only-of-type {\n        vertical-align: middle;\n    }\n\n    .dataframe tbody tr th {\n        vertical-align: top;\n    }\n\n    .dataframe thead th {\n        text-align: right;\n    }\n</style>\n<table border=\"1\" class=\"dataframe\">\n  <thead>\n    <tr style=\"text-align: right;\">\n      <th></th>\n      <th>column</th>\n      <th>missing_values</th>\n    </tr>\n  </thead>\n  <tbody>\n    <tr>\n      <th>4</th>\n      <td>state</td>\n      <td>40.905481</td>\n    </tr>\n    <tr>\n      <th>5</th>\n      <td>self_employed</td>\n      <td>1.429706</td>\n    </tr>\n    <tr>\n      <th>8</th>\n      <td>work_interfere</td>\n      <td>20.969023</td>\n    </tr>\n    <tr>\n      <th>26</th>\n      <td>comments</td>\n      <td>86.973789</td>\n    </tr>\n  </tbody>\n</table>\n</div>"
     },
     "metadata": {},
     "execution_count": 12
    }
   ],
   "source": [
    "mental_health_missing"
   ]
  },
  {
   "source": [
    "## 3. Dataset Enfermedades en puestos de tecnología 2019\n",
    "### Objetivo: Predecir los empleados qué tienen una enfermedad mental (qué variables influyen más en su condición mental) "
   ],
   "cell_type": "markdown",
   "metadata": {}
  },
  {
   "cell_type": "code",
   "execution_count": 13,
   "metadata": {
    "tags": []
   },
   "outputs": [
    {
     "output_type": "stream",
     "name": "stdout",
     "text": [
      "<class 'pandas.core.frame.DataFrame'>\nRangeIndex: 352 entries, 0 to 351\nData columns (total 82 columns):\n #   Column                                                                                                                                                                                                                            Non-Null Count  Dtype  \n---  ------                                                                                                                                                                                                                            --------------  -----  \n 0   *Are you self-employed?*                                                                                                                                                                                                          352 non-null    bool   \n 1   How many employees does your company or organization have?                                                                                                                                                                        304 non-null    object \n 2   Is your employer primarily a tech company/organization?                                                                                                                                                                           304 non-null    object \n 3   Is your primary role within your company related to tech/IT?                                                                                                                                                                      304 non-null    object \n 4   Does your employer provide mental health benefits as part of healthcare coverage?                                                                                                                                                 304 non-null    object \n 5   Do you know the options for mental health care available under your employer-provided health coverage?                                                                                                                            278 non-null    object \n 6   Has your employer ever formally discussed mental health (for example, as part of a wellness campaign or other official communication)?                                                                                            304 non-null    object \n 7   Does your employer offer resources to learn more about mental health disorders and options for seeking help?                                                                                                                      304 non-null    object \n 8   Is your anonymity protected if you choose to take advantage of mental health or substance abuse treatment resources provided by your employer?                                                                                    304 non-null    object \n 9   If a mental health issue prompted you to request a medical leave from work, how easy or difficult would it be to ask for that leave?                                                                                              304 non-null    object \n 10  Would you feel more comfortable talking to your coworkers about your physical health or your mental health?                                                                                                                       304 non-null    object \n 11  Would you feel comfortable discussing a mental health issue with your direct supervisor(s)?                                                                                                                                       304 non-null    object \n 12  Have you ever discussed your mental health with your employer?                                                                                                                                                                    304 non-null    object \n 13  Describe the conversation you had with your employer about your mental health, including their reactions and what actions were taken to address your mental health issue/questions.                                               84 non-null     object \n 14  Would you feel comfortable discussing a mental health issue with your coworkers?                                                                                                                                                  304 non-null    object \n 15  Have you ever discussed your mental health with coworkers?                                                                                                                                                                        301 non-null    object \n 16  Describe the conversation with coworkers you had about your mental health including their reactions.                                                                                                                              119 non-null    object \n 17  Have you ever had a coworker discuss their or another coworker's mental health with you?                                                                                                                                          304 non-null    object \n 18  Describe the conversation your coworker had with you about their mental health (please do not use names).                                                                                                                         110 non-null    object \n 19  Overall, how much importance does your employer place on physical health?                                                                                                                                                         304 non-null    float64\n 20  Overall, how much importance does your employer place on mental health?                                                                                                                                                           304 non-null    float64\n 21  Do you have medical coverage (private insurance or state-provided) that includes treatment of mental health disorders?                                                                                                            48 non-null     object \n 22  Do you know local or online resources to seek help for a mental health issue?                                                                                                                                                     48 non-null     object \n 23  If you have been diagnosed or treated for a mental health disorder, do you ever reveal this to clients or business contacts?                                                                                                      48 non-null     object \n 24  If you have revealed a mental health disorder to a client or business contact, how has this affected you or the relationship?                                                                                                     20 non-null     object \n 25  If you have been diagnosed or treated for a mental health disorder, do you ever reveal this to coworkers or employees?                                                                                                            48 non-null     object \n 26  If you have revealed a mental health disorder to a coworker or employee, how has this impacted you or the relationship?                                                                                                           48 non-null     object \n 27  Do you believe your productivity is ever affected by a mental health issue?                                                                                                                                                       48 non-null     object \n 28  If yes, what percentage of your work time (time performing primary or secondary job functions) is affected by a mental health issue?                                                                                              37 non-null     object \n 29  *Do you have previous employers?*                                                                                                                                                                                                 352 non-null    bool   \n 30  Was your employer primarily a tech company/organization?                                                                                                                                                                          296 non-null    object \n 31  Have your previous employers provided mental health benefits?                                                                                                                                                                     296 non-null    object \n 32  Were you aware of the options for mental health care provided by your previous employers?                                                                                                                                         296 non-null    object \n 33  Did your previous employers ever formally discuss mental health (as part of a wellness campaign or other official communication)?                                                                                                 296 non-null    object \n 34  Did your previous employers provide resources to learn more about mental health disorders and how to seek help?                                                                                                                   296 non-null    object \n 35  Was your anonymity protected if you chose to take advantage of mental health or substance abuse treatment resources with previous employers?                                                                                      296 non-null    object \n 36  Would you have felt more comfortable talking to your previous employer about your physical health or your mental health?                                                                                                          296 non-null    object \n 37  Would you have been willing to discuss your mental health with your direct supervisor(s)?                                                                                                                                         296 non-null    object \n 38  Did you ever discuss your mental health with your previous employer?                                                                                                                                                              296 non-null    object \n 39  Describe the conversation you had with your previous employer about your mental health, including their reactions and actions taken to address your mental health issue/questions.                                                63 non-null     object \n 40  Would you have been willing to discuss your mental health with your coworkers at previous employers?                                                                                                                              296 non-null    object \n 41  Did you ever discuss your mental health with a previous coworker(s)?                                                                                                                                                              294 non-null    object \n 42  Describe the conversation you had with your previous coworkers about your mental health including their reactions.                                                                                                                85 non-null     object \n 43  Did you ever have a previous coworker discuss their or another coworker's mental health with you?                                                                                                                                 295 non-null    object \n 44  Describe the conversation your coworker had with you about their mental health (please do not use names)..1                                                                                                                       66 non-null     object \n 45  Overall, how much importance did your previous employer place on physical health?                                                                                                                                                 296 non-null    float64\n 46  Overall, how much importance did your previous employer place on mental health?                                                                                                                                                   296 non-null    float64\n 47  Do you *currently* have a mental health disorder?                                                                                                                                                                                 352 non-null    object \n 48  Have you ever been *diagnosed* with a mental health disorder?                                                                                                                                                                     147 non-null    object \n 49  *What disorder(s) have you been diagnosed with?*                                                                                                                                                                                  0 non-null      float64\n 50  *If possibly, what disorder(s) do you believe you have?*                                                                                                                                                                          72 non-null     object \n 51  *If so, what disorder(s) were you diagnosed with?*                                                                                                                                                                                144 non-null    object \n 52  Have you had a mental health disorder in the past?                                                                                                                                                                                349 non-null    object \n 53  Have you ever sought treatment for a mental health disorder from a mental health professional?                                                                                                                                    352 non-null    bool   \n 54  Do you have a family history of mental illness?                                                                                                                                                                                   352 non-null    object \n 55  If you have a mental health disorder, how often do you feel that it interferes with your work *when being treated effectively?*                                                                                                   352 non-null    object \n 56  If you have a mental health disorder, how often do you feel that it interferes with your work *when* _*NOT*_* being treated effectively (i.e., when you are experiencing symptoms)?*                                              352 non-null    object \n 57  Have your observations of how another individual who discussed a mental health issue made you less likely to reveal a mental health issue yourself in your current workplace?                                                     282 non-null    object \n 58  How willing would you be to share with friends and family that you have a mental illness?                                                                                                                                         352 non-null    int64  \n 59  Would you be willing to bring up a physical health issue with a potential employer in an interview?                                                                                                                               352 non-null    object \n 60  Why or why not?                                                                                                                                                                                                                   273 non-null    object \n 61  Would you bring up your *mental* health with a potential employer in an interview?                                                                                                                                                352 non-null    object \n 62  Why or why not?.1                                                                                                                                                                                                                 285 non-null    object \n 63  Are you openly identified at work as a person with a mental health issue?                                                                                                                                                         352 non-null    bool   \n 64  Has being identified as a person with a mental health issue affected your career?                                                                                                                                                 45 non-null     object \n 65  How has it affected your career?                                                                                                                                                                                                  18 non-null     float64\n 66  If they knew you suffered from a mental health disorder, how do you think that your team members/co-workers would react?                                                                                                          352 non-null    int64  \n 67  Have you observed or experienced an *unsupportive or badly handled response* to a mental health issue in your current or previous workplace?                                                                                      352 non-null    object \n 68  Describe the circumstances of the badly handled or unsupportive response.                                                                                                                                                         89 non-null     object \n 69  Have you observed or experienced a *supportive or well handled response* to a mental health issue in your current or previous workplace?                                                                                          352 non-null    object \n 70  Describe the circumstances of the supportive or well handled response.                                                                                                                                                            0 non-null      float64\n 71  Overall, how well do you think the tech industry supports employees with mental health issues?                                                                                                                                    352 non-null    int64  \n 72  Briefly describe what you think the industry as a whole and/or employers could do to improve mental health support for employees.                                                                                                 254 non-null    object \n 73  If there is anything else you would like to tell us that has not been covered by the survey questions, please use this space to do so.                                                                                            100 non-null    object \n 74  Would you be willing to talk to one of us more extensively about your experiences with mental health issues in the tech industry? (Note that all interview responses would be used _anonymously_ and only with your permission.)  352 non-null    bool   \n 75  What is your age?                                                                                                                                                                                                                 352 non-null    int64  \n 76  What is your gender?                                                                                                                                                                                                              347 non-null    object \n 77  What country do you *live* in?                                                                                                                                                                                                    352 non-null    object \n 78  What US state or territory do you *live* in?                                                                                                                                                                                      204 non-null    object \n 79  What is your race?                                                                                                                                                                                                                204 non-null    object \n 80  What country do you *work* in?                                                                                                                                                                                                    352 non-null    object \n 81  What US state or territory do you *work* in?                                                                                                                                                                                      204 non-null    object \ndtypes: bool(5), float64(7), int64(4), object(66)\nmemory usage: 213.6+ KB\n"
     ]
    }
   ],
   "source": [
    "mental_2019_dataset = pd.read_csv(\"enfermedadesMentales_tecnologia2019.csv\", sep = \",\", na_values = \"unknown\", encoding='latin-1')\n",
    "mental_2019_dataset.info()"
   ]
  },
  {
   "cell_type": "code",
   "execution_count": 14,
   "metadata": {},
   "outputs": [],
   "source": [
    "mental_2019_missing=pd.DataFrame({'column':mental_2019_dataset.isna().sum().index, 'missing_values':((mental_2019_dataset.isna().sum()/352)*100).values})"
   ]
  },
  {
   "cell_type": "code",
   "execution_count": 15,
   "metadata": {},
   "outputs": [],
   "source": [
    "indexNames = mental_2019_missing[~(mental_2019_missing['missing_values'] != 0)].index \n",
    "mental_2019_missing.drop(indexNames , inplace=True)"
   ]
  },
  {
   "cell_type": "code",
   "execution_count": 16,
   "metadata": {
    "tags": []
   },
   "outputs": [
    {
     "output_type": "stream",
     "name": "stdout",
     "text": [
      "                                               column  missing_values\n1   How many employees does your company or organi...       13.636364\n2   Is your employer primarily a tech company/orga...       13.636364\n3   Is your primary role within your company relat...       13.636364\n4   Does your employer provide mental health benef...       13.636364\n5   Do you know the options for mental health care...       21.022727\n6   Has your employer ever formally discussed ment...       13.636364\n7   Does your employer offer resources to learn mo...       13.636364\n8   Is your anonymity protected if you choose to t...       13.636364\n9   If a mental health issue prompted you to reque...       13.636364\n10  Would you feel more comfortable talking to you...       13.636364\n11  Would you feel comfortable discussing a mental...       13.636364\n12  Have you ever discussed your mental health wit...       13.636364\n13  Describe the conversation you had with your em...       76.136364\n14  Would you feel comfortable discussing a mental...       13.636364\n15  Have you ever discussed your mental health wit...       14.488636\n16  Describe the conversation with coworkers you h...       66.193182\n17  Have you ever had a coworker discuss their or ...       13.636364\n18  Describe the conversation your coworker had wi...       68.750000\n19  Overall, how much importance does your employe...       13.636364\n20  Overall, how much importance does your employe...       13.636364\n21  Do you have medical coverage (private insuranc...       86.363636\n22  Do you know local or online resources to seek ...       86.363636\n23  If you have been diagnosed or treated for a me...       86.363636\n24  If you have revealed a mental health disorder ...       94.318182\n25  If you have been diagnosed or treated for a me...       86.363636\n26  If you have revealed a mental health disorder ...       86.363636\n27  Do you believe your productivity is ever affec...       86.363636\n28  If yes, what percentage of your work time (tim...       89.488636\n30  Was your employer primarily a tech company/org...       15.909091\n31  Have your previous employers provided mental h...       15.909091\n32  Were you aware of the options for mental healt...       15.909091\n33  Did your previous employers ever formally disc...       15.909091\n34  Did your previous employers provide resources ...       15.909091\n35  Was your anonymity protected if you chose to t...       15.909091\n36  Would you have felt more comfortable talking t...       15.909091\n37  Would you have been willing to discuss your me...       15.909091\n38  Did you ever discuss your mental health with y...       15.909091\n39  Describe the conversation you had with your pr...       82.102273\n40  Would you have been willing to discuss your me...       15.909091\n41  Did you ever discuss your mental health with a...       16.477273\n42  Describe the conversation you had with your pr...       75.852273\n43  Did you ever have a previous coworker discuss ...       16.193182\n44  Describe the conversation your coworker had wi...       81.250000\n45  Overall, how much importance did your previous...       15.909091\n46  Overall, how much importance did your previous...       15.909091\n48  Have you ever been *diagnosed* with a mental h...       58.238636\n49   *What disorder(s) have you been diagnosed with?*      100.000000\n50  *If possibly, what disorder(s) do you believe ...       79.545455\n51  *If so, what disorder(s) were you diagnosed wi...       59.090909\n52  Have you had a mental health disorder in the p...        0.852273\n57  Have your observations of how another individu...       19.886364\n60                                    Why or why not?       22.443182\n62                                  Why or why not?.1       19.034091\n64  Has being identified as a person with a mental...       87.215909\n65                   How has it affected your career?       94.886364\n68  Describe the circumstances of the badly handle...       74.715909\n70  Describe the circumstances of the supportive o...      100.000000\n72  Briefly describe what you think the industry a...       27.840909\n73  If there is anything else you would like to te...       71.590909\n76                               What is your gender?        1.420455\n78       What US state or territory do you *live* in?       42.045455\n79                                 What is your race?       42.045455\n81       What US state or territory do you *work* in?       42.045455\n"
     ]
    }
   ],
   "source": [
    "with pd.option_context('display.max_rows', None, 'display.max_columns', None): \n",
    "    print(mental_2019_missing)"
   ]
  },
  {
   "cell_type": "code",
   "execution_count": 17,
   "metadata": {},
   "outputs": [
    {
     "output_type": "execute_result",
     "data": {
      "text/plain": [
       "                                               column  missing_values\n",
       "1   How many employees does your company or organi...       13.636364\n",
       "2   Is your employer primarily a tech company/orga...       13.636364\n",
       "3   Is your primary role within your company relat...       13.636364\n",
       "4   Does your employer provide mental health benef...       13.636364\n",
       "5   Do you know the options for mental health care...       21.022727\n",
       "..                                                ...             ...\n",
       "73  If there is anything else you would like to te...       71.590909\n",
       "76                               What is your gender?        1.420455\n",
       "78       What US state or territory do you *live* in?       42.045455\n",
       "79                                 What is your race?       42.045455\n",
       "81       What US state or territory do you *work* in?       42.045455\n",
       "\n",
       "[63 rows x 2 columns]"
      ],
      "text/html": "<div>\n<style scoped>\n    .dataframe tbody tr th:only-of-type {\n        vertical-align: middle;\n    }\n\n    .dataframe tbody tr th {\n        vertical-align: top;\n    }\n\n    .dataframe thead th {\n        text-align: right;\n    }\n</style>\n<table border=\"1\" class=\"dataframe\">\n  <thead>\n    <tr style=\"text-align: right;\">\n      <th></th>\n      <th>column</th>\n      <th>missing_values</th>\n    </tr>\n  </thead>\n  <tbody>\n    <tr>\n      <th>1</th>\n      <td>How many employees does your company or organi...</td>\n      <td>13.636364</td>\n    </tr>\n    <tr>\n      <th>2</th>\n      <td>Is your employer primarily a tech company/orga...</td>\n      <td>13.636364</td>\n    </tr>\n    <tr>\n      <th>3</th>\n      <td>Is your primary role within your company relat...</td>\n      <td>13.636364</td>\n    </tr>\n    <tr>\n      <th>4</th>\n      <td>Does your employer provide mental health benef...</td>\n      <td>13.636364</td>\n    </tr>\n    <tr>\n      <th>5</th>\n      <td>Do you know the options for mental health care...</td>\n      <td>21.022727</td>\n    </tr>\n    <tr>\n      <th>...</th>\n      <td>...</td>\n      <td>...</td>\n    </tr>\n    <tr>\n      <th>73</th>\n      <td>If there is anything else you would like to te...</td>\n      <td>71.590909</td>\n    </tr>\n    <tr>\n      <th>76</th>\n      <td>What is your gender?</td>\n      <td>1.420455</td>\n    </tr>\n    <tr>\n      <th>78</th>\n      <td>What US state or territory do you *live* in?</td>\n      <td>42.045455</td>\n    </tr>\n    <tr>\n      <th>79</th>\n      <td>What is your race?</td>\n      <td>42.045455</td>\n    </tr>\n    <tr>\n      <th>81</th>\n      <td>What US state or territory do you *work* in?</td>\n      <td>42.045455</td>\n    </tr>\n  </tbody>\n</table>\n<p>63 rows × 2 columns</p>\n</div>"
     },
     "metadata": {},
     "execution_count": 17
    }
   ],
   "source": [
    "mental_2019_missing"
   ]
  },
  {
   "source": [
    "## 4. Dataset sobrevivientes al carcinoma hepatocelular\n",
    "### Objetivo: Predecir si un paciente sobrevive o no al tipo de cáncer de hígado más común"
   ],
   "cell_type": "markdown",
   "metadata": {}
  },
  {
   "cell_type": "code",
   "execution_count": 18,
   "metadata": {
    "tags": []
   },
   "outputs": [
    {
     "output_type": "stream",
     "name": "stdout",
     "text": [
      "<class 'pandas.core.frame.DataFrame'>\nRangeIndex: 165 entries, 0 to 164\nData columns (total 50 columns):\n #   Column         Non-Null Count  Dtype \n---  ------         --------------  ----- \n 0   1.Gen          165 non-null    int64 \n 1   2.Sym          165 non-null    object\n 2   3.Alc          165 non-null    int64 \n 3   4.HepB         165 non-null    object\n 4   5.HepB         165 non-null    object\n 5   6.HepB         165 non-null    object\n 6   7.HepC         165 non-null    object\n 7   8.Cir          165 non-null    int64 \n 8   9.End          165 non-null    object\n 9   10.Smo         165 non-null    object\n 10  11.Dia         165 non-null    object\n 11  12.Obe         165 non-null    object\n 12  13.Hem         165 non-null    object\n 13  14.Art         165 non-null    object\n 14  15.CRen        165 non-null    object\n 15  16.HIV         165 non-null    object\n 16  17.Non         165 non-null    object\n 17  18.EVar        165 non-null    object\n 18  19.Spl         165 non-null    object\n 19  20.PHyp        165 non-null    object\n 20  21.Thr         165 non-null    object\n 21  22.LMet        165 non-null    object\n 22  23.Rad         165 non-null    object\n 23  24.Agedia      165 non-null    int64 \n 24  25.Alcpd       165 non-null    object\n 25  26.cigpy       165 non-null    object\n 26  27.Sta         165 non-null    int64 \n 27  28.Encdeg      165 non-null    object\n 28  29.Ascdeg      165 non-null    object\n 29   30.IntNorRat  165 non-null    object\n 30   31.Alp        165 non-null    object\n 31   32.Hae        165 non-null    object\n 32   33.MCorVol    165 non-null    object\n 33   34.Leu        165 non-null    object\n 34  35.Plat        165 non-null    object\n 35  36.Alb         165 non-null    object\n 36  37.Bil         165 non-null    object\n 37  38.Ala         165 non-null    object\n 38  39.Aspa        165 non-null    object\n 39  40.Gam         165 non-null    object\n 40  41.Alk         165 non-null    object\n 41  42.Prot        165 non-null    object\n 42  43.Crea        165 non-null    object\n 43  44.NNod        165 non-null    object\n 44  45.dnod        165 non-null    object\n 45  46.Bil         165 non-null    object\n 46  47.Iro         165 non-null    object\n 47  48.Oxy         165 non-null    object\n 48  49.Fer         165 non-null    object\n 49  Class          165 non-null    int64 \ndtypes: int64(6), object(44)\nmemory usage: 64.6+ KB\n"
     ]
    }
   ],
   "source": [
    "hcc_dataset = pd.read_csv(\"hcc_survival.csv\", sep = \",\", na_values = \"unknown\", encoding='latin-1')\n",
    "hcc_dataset.info()"
   ]
  },
  {
   "cell_type": "code",
   "execution_count": 19,
   "metadata": {},
   "outputs": [],
   "source": [
    "hcc_missing=pd.DataFrame({'column':hcc_dataset.isna().sum().index, 'missing_values':((hcc_dataset.isna().sum()/1259)*100).values})"
   ]
  },
  {
   "cell_type": "code",
   "execution_count": 20,
   "metadata": {},
   "outputs": [],
   "source": [
    "indexNames = hcc_missing[~(hcc_missing['missing_values'] != 0)].index \n",
    "hcc_missing.drop(indexNames , inplace=True)"
   ]
  },
  {
   "cell_type": "code",
   "execution_count": 21,
   "metadata": {},
   "outputs": [
    {
     "output_type": "execute_result",
     "data": {
      "text/plain": [
       "Empty DataFrame\n",
       "Columns: [column, missing_values]\n",
       "Index: []"
      ],
      "text/html": "<div>\n<style scoped>\n    .dataframe tbody tr th:only-of-type {\n        vertical-align: middle;\n    }\n\n    .dataframe tbody tr th {\n        vertical-align: top;\n    }\n\n    .dataframe thead th {\n        text-align: right;\n    }\n</style>\n<table border=\"1\" class=\"dataframe\">\n  <thead>\n    <tr style=\"text-align: right;\">\n      <th></th>\n      <th>column</th>\n      <th>missing_values</th>\n    </tr>\n  </thead>\n  <tbody>\n  </tbody>\n</table>\n</div>"
     },
     "metadata": {},
     "execution_count": 21
    }
   ],
   "source": [
    "hcc_missing"
   ]
  },
  {
   "source": [
    "## 5. Dataset Enfermedades en puestos de tecnología 2017-2018 (más datos)\n",
    "### Objetivo: Predecir los empleados qué tienen una enfermedad mental (qué variables influyen más en su condición mental) "
   ],
   "cell_type": "markdown",
   "metadata": {}
  },
  {
   "cell_type": "code",
   "execution_count": 22,
   "metadata": {
    "tags": []
   },
   "outputs": [
    {
     "output_type": "stream",
     "name": "stdout",
     "text": [
      "<class 'pandas.core.frame.DataFrame'>\nRangeIndex: 1173 entries, 0 to 1172\nData columns (total 98 columns):\n #   Column                                                                                                                                                                                                                                    Non-Null Count  Dtype  \n---  ------                                                                                                                                                                                                                                    --------------  -----  \n 0   #                                                                                                                                                                                                                                         1173 non-null   object \n 1   <strong>Are you self-employed?</strong>                                                                                                                                                                                                   1173 non-null   int64  \n 2   How many employees does your company or organization have?                                                                                                                                                                                1004 non-null   object \n 3   Is your employer primarily a tech company/organization?                                                                                                                                                                                   1004 non-null   float64\n 4   Is your primary role within your company related to tech/IT?                                                                                                                                                                              1004 non-null   float64\n 5   Does your employer provide mental health benefitsÂ as part of healthcare coverage?                                                                                                                                                        1004 non-null   object \n 6   Do you know the options for mental health care available under your employer-provided health coverage?                                                                                                                                    900 non-null    object \n 7   Has your employer ever formally discussed mental health (for example, as part of a wellness campaign or other official communication)?                                                                                                    1004 non-null   object \n 8   Does your employer offer resources to learn more about mental health disorders and options for seeking help?                                                                                                                              1004 non-null   object \n 9   Is your anonymity protected if you choose to take advantage of mental health or substance abuse treatment resources provided by your employer?                                                                                            1004 non-null   object \n 10  If a mental health issue prompted you to request a medical leave from work, how easy or difficult would it be to ask for that leave?                                                                                                      1004 non-null   object \n 11  Would you feel more comfortable talking to your coworkers about your physical health or your mental health?                                                                                                                               1004 non-null   object \n 12  Would you feel comfortable discussing a mental health issue with your direct supervisor(s)?                                                                                                                                               1004 non-null   object \n 13  Have you ever discussed your mental health with your employer?                                                                                                                                                                            1004 non-null   float64\n 14  Describe the conversation you had with your employer about your mental health, including their reactions and what actions were taken to address your mental health issue/questions.                                                       268 non-null    object \n 15  Would you feel comfortable discussing a mental health issue with your coworkers?                                                                                                                                                          1004 non-null   object \n 16  Have you ever discussed your mental health with coworkers?                                                                                                                                                                                1003 non-null   float64\n 17  Describe the conversation with coworkers you had about your mental health including their reactions.                                                                                                                                      332 non-null    object \n 18  Have you ever had a coworker discuss their or another coworker's mental health with you?                                                                                                                                                  998 non-null    float64\n 19  Describe the conversation your coworker had with you about their mental health (please do not use names).                                                                                                                                 354 non-null    object \n 20  Overall, how much importance does your employer place on physical health?                                                                                                                                                                 1004 non-null   float64\n 21  Overall, how much importance does your employer place on mental health?                                                                                                                                                                   1004 non-null   float64\n 22  <strong>Do you have previous employers?</strong>                                                                                                                                                                                          1173 non-null   int64  \n 23  Was your employer primarily a tech company/organization?                                                                                                                                                                                  1030 non-null   float64\n 24  <strong>Have your previous employers provided mental health benefits?</strong>                                                                                                                                                            1030 non-null   object \n 25  <strong>Were you aware of the options for mental health care provided by your previous employers?</strong>                                                                                                                                1030 non-null   object \n 26  Did your previous employers ever formally discuss mental health (as part of a wellness campaign or other official communication)?                                                                                                         1030 non-null   object \n 27  Did your previous employers provide resources to learn more about mental health disorders and how to seek help?                                                                                                                           1030 non-null   object \n 28  Was your anonymity protected if you chose to take advantage of mental health or substance abuse treatment resources with previous employers?                                                                                              1030 non-null   object \n 29  Would you have felt more comfortable talking to your previous employer about your physical health or your mental health?                                                                                                                  1030 non-null   object \n 30  Would you have been willing to discuss your mental health with your direct supervisor(s)?                                                                                                                                                 1030 non-null   object \n 31  Did you ever discuss your mental health with your previous employer?                                                                                                                                                                      1030 non-null   float64\n 32  Describe the conversation you had with your previous employer about your mental health, including their reactions and actions taken to address your mental health issue/questions.                                                        165 non-null    object \n 33  <strong>Would you have been willing to discuss your mental health with your coworkers at previous employers?</strong>                                                                                                                     1030 non-null   object \n 34  Did you ever discuss your mental health with a previous coworker(s)?                                                                                                                                                                      1028 non-null   float64\n 35  Describe the conversation you had with your previous coworkers about your mental health including their reactions.                                                                                                                        222 non-null    object \n 36  Did you ever have a previous coworker discuss their or another coworker's mental health with you?                                                                                                                                         1024 non-null   float64\n 37  Describe the conversation your coworker had with you about their mental health (please do not use names)..1                                                                                                                               205 non-null    object \n 38  Overall, how much importance did your previous employer place on physical health?                                                                                                                                                         1030 non-null   float64\n 39  Overall, how much importance did your previous employer place on mental health?                                                                                                                                                           1030 non-null   float64\n 40  Do you currently have a mental health disorder?                                                                                                                                                                                           1173 non-null   object \n 41  Have you ever been diagnosed with a mental health disorder?                                                                                                                                                                               515 non-null    object \n 42  Anxiety Disorder (Generalized, Social, Phobia, etc)                                                                                                                                                                                       155 non-null    object \n 43  Mood Disorder (Depression, Bipolar Disorder, etc)                                                                                                                                                                                         136 non-null    object \n 44  Psychotic Disorder (Schizophrenia, Schizoaffective, etc)                                                                                                                                                                                  0 non-null      float64\n 45  Eating Disorder (Anorexia, Bulimia, etc)                                                                                                                                                                                                  5 non-null      object \n 46  Attention Deficit Hyperactivity Disorder                                                                                                                                                                                                  42 non-null     object \n 47  Personality Disorder (Borderline, Antisocial, Paranoid, etc)                                                                                                                                                                              21 non-null     object \n 48  Obsessive-Compulsive Disorder                                                                                                                                                                                                             27 non-null     object \n 49  Post-traumatic Stress Disorder                                                                                                                                                                                                            27 non-null     object \n 50  Stress Response Syndromes                                                                                                                                                                                                                 26 non-null     object \n 51  Dissociative Disorder                                                                                                                                                                                                                     6 non-null      object \n 52  Substance Use Disorder                                                                                                                                                                                                                    10 non-null     object \n 53  Addictive Disorder                                                                                                                                                                                                                        13 non-null     object \n 54  Anxiety Disorder (Generalized, Social, Phobia, etc).1                                                                                                                                                                                     327 non-null    object \n 55  Mood Disorder (Depression, Bipolar Disorder, etc).1                                                                                                                                                                                       377 non-null    object \n 56  Psychotic Disorder (Schizophrenia, Schizoaffective, etc).1                                                                                                                                                                                13 non-null     object \n 57  Eating Disorder (Anorexia, Bulimia, etc).1                                                                                                                                                                                                32 non-null     object \n 58  Attention Deficit Hyperactivity Disorder.1                                                                                                                                                                                                128 non-null    object \n 59  Personality Disorder (Borderline, Antisocial, Paranoid, etc).1                                                                                                                                                                            24 non-null     object \n 60  Obsessive-Compulsive Disorder.1                                                                                                                                                                                                           41 non-null     object \n 61  Post-traumatic Stress Disorder.1                                                                                                                                                                                                          78 non-null     object \n 62  Stress Response Syndromes.1                                                                                                                                                                                                               13 non-null     object \n 63  Dissociative Disorder.1                                                                                                                                                                                                                   8 non-null      object \n 64  Substance Use Disorder.1                                                                                                                                                                                                                  27 non-null     object \n 65  Addictive Disorder.1                                                                                                                                                                                                                      18 non-null     object \n 66  Other                                                                                                                                                                                                                                     19 non-null     object \n 67  Have you ever sought treatment for a mental health disorder from a mental health professional?                                                                                                                                            1173 non-null   int64  \n 68  Do you have a family history of mental illness?                                                                                                                                                                                           1173 non-null   object \n 69  If you have a mental health disorder, how often do you feel that it interferes with your work <strong>when being treated effectively?</strong>                                                                                            1173 non-null   object \n 70  If you have a mental health disorder, how often do you feel that it interferes with your work <strong>when <em>NOT</em> being treated effectively (i.e., when you are experiencing symptoms)?</strong>                                    1173 non-null   object \n 71  Have your observations of how another individual who discussed a mental health issue made you less likely to reveal a mental health issue yourself in your current workplace?                                                             916 non-null    object \n 72  How willing would you be to share with friends and family that you have a mental illness?                                                                                                                                                 1173 non-null   int64  \n 73  Would you be willing to bring up a physical health issue with a potential employer in an interview?                                                                                                                                       1173 non-null   object \n 74  Would you bring up your mental health with a potential employer in an interview?                                                                                                                                                          1173 non-null   object \n 75  Are you openly identified at work as a person with a mental health issue?                                                                                                                                                                 1171 non-null   float64\n 76  Has being identified as a person with a mental health issue affected your career?                                                                                                                                                         135 non-null    float64\n 77  How has it affected your career?                                                                                                                                                                                                          42 non-null     float64\n 78  If they knew you suffered from a mental health disorder,Â how do you think that team members/co-workers would react?                                                                                                                      1171 non-null   float64\n 79  <strong>Have you observed or experienced an unsupportive or badly handled response to a mental health issue in your current or previous workplace?</strong>                                                                               1171 non-null   object \n 80  Describe the circumstances of the badly handled or unsupportive response.                                                                                                                                                                 248 non-null    object \n 81  <strong>Have you observed or experienced supportive or well handled response to a mental health issue in your current or previous workplace?</strong>                                                                                     1171 non-null   object \n 82  Describe the circumstances of the supportive or well handled response.                                                                                                                                                                    0 non-null      float64\n 83  Overall, how well do you think the tech industry supports employees with mental health issues?                                                                                                                                            1171 non-null   float64\n 84  Briefly describe what you think the industry as a whole and/or employers could do to improve mental health support for employees.                                                                                                         789 non-null    object \n 85  If there is anything else you would like to tell us that has not been covered by the survey questions, please use this space to do so.                                                                                                    281 non-null    object \n 86  Would you be willing to talk to one of us more extensively about your experiences with mental health issues in the tech industry? (Note that all interview responses would be used <em>anonymously</em>Â and only with your permission.)  1171 non-null   float64\n 87  What is your age?                                                                                                                                                                                                                         1171 non-null   float64\n 88  What is your gender?                                                                                                                                                                                                                      1157 non-null   object \n 89  What country do you <strong>live</strong> in?                                                                                                                                                                                             1171 non-null   object \n 90  What US state or territory do you <strong>live</strong> in?                                                                                                                                                                               808 non-null    object \n 91  What is your race?                                                                                                                                                                                                                        784 non-null    object \n 92  Other.1                                                                                                                                                                                                                                   24 non-null     object \n 93  What country do you <strong>work</strong> in?                                                                                                                                                                                             1171 non-null   object \n 94  What US state or territory do you <strong>work</strong> in?                                                                                                                                                                               817 non-null    object \n 95  Start Date (UTC)                                                                                                                                                                                                                          1173 non-null   object \n 96  Submit Date (UTC)                                                                                                                                                                                                                         1173 non-null   object \n 97  Network ID                                                                                                                                                                                                                                1173 non-null   object \ndtypes: float64(22), int64(4), object(72)\nmemory usage: 898.2+ KB\n"
     ]
    }
   ],
   "source": [
    "MH_dataset = pd.read_csv(\"enfermedadesMentales2017-2018.csv\", sep = \",\", na_values = \"unknown\", encoding='latin-1')\n",
    "MH_dataset.info()"
   ]
  },
  {
   "cell_type": "code",
   "execution_count": 23,
   "metadata": {},
   "outputs": [],
   "source": [
    "MH_missing=pd.DataFrame({'column':MH_dataset.isna().sum().index, 'missing_values':((MH_dataset.isna().sum()/1173)*100).values})"
   ]
  },
  {
   "cell_type": "code",
   "execution_count": 24,
   "metadata": {},
   "outputs": [],
   "source": [
    "indexNames = MH_missing[~(MH_missing['missing_values'] != 0)].index \n",
    "MH_missing.drop(indexNames , inplace=True)"
   ]
  },
  {
   "cell_type": "code",
   "execution_count": 25,
   "metadata": {},
   "outputs": [
    {
     "output_type": "execute_result",
     "data": {
      "text/plain": "                                               column  missing_values\n2   How many employees does your company or organi...       14.407502\n3   Is your employer primarily a tech company/orga...       14.407502\n4   Is your primary role within your company relat...       14.407502\n5   Does your employer provide mental health benef...       14.407502\n6   Do you know the options for mental health care...       23.273657\n..                                                ...             ...\n67      What country do you &lt;strong&gt;live&lt;/strong&gt; in?        0.170503\n68  What US state or territory do you &lt;strong&gt;live...       31.116795\n69                                 What is your race?       33.162830\n70      What country do you &lt;strong&gt;work&lt;/strong&gt; in?        0.170503\n71  What US state or territory do you &lt;strong&gt;work...       30.349531\n\n[68 rows x 2 columns]",
      "text/html": "<div>\n<style scoped>\n    .dataframe tbody tr th:only-of-type {\n        vertical-align: middle;\n    }\n\n    .dataframe tbody tr th {\n        vertical-align: top;\n    }\n\n    .dataframe thead th {\n        text-align: right;\n    }\n</style>\n<table border=\"1\" class=\"dataframe\">\n  <thead>\n    <tr style=\"text-align: right;\">\n      <th></th>\n      <th>column</th>\n      <th>missing_values</th>\n    </tr>\n  </thead>\n  <tbody>\n    <tr>\n      <th>2</th>\n      <td>How many employees does your company or organi...</td>\n      <td>14.407502</td>\n    </tr>\n    <tr>\n      <th>3</th>\n      <td>Is your employer primarily a tech company/orga...</td>\n      <td>14.407502</td>\n    </tr>\n    <tr>\n      <th>4</th>\n      <td>Is your primary role within your company relat...</td>\n      <td>14.407502</td>\n    </tr>\n    <tr>\n      <th>5</th>\n      <td>Does your employer provide mental health benef...</td>\n      <td>14.407502</td>\n    </tr>\n    <tr>\n      <th>6</th>\n      <td>Do you know the options for mental health care...</td>\n      <td>23.273657</td>\n    </tr>\n    <tr>\n      <th>...</th>\n      <td>...</td>\n      <td>...</td>\n    </tr>\n    <tr>\n      <th>67</th>\n      <td>What country do you &lt;strong&gt;live&lt;/strong&gt; in?</td>\n      <td>0.170503</td>\n    </tr>\n    <tr>\n      <th>68</th>\n      <td>What US state or territory do you &lt;strong&gt;live...</td>\n      <td>31.116795</td>\n    </tr>\n    <tr>\n      <th>69</th>\n      <td>What is your race?</td>\n      <td>33.162830</td>\n    </tr>\n    <tr>\n      <th>70</th>\n      <td>What country do you &lt;strong&gt;work&lt;/strong&gt; in?</td>\n      <td>0.170503</td>\n    </tr>\n    <tr>\n      <th>71</th>\n      <td>What US state or territory do you &lt;strong&gt;work...</td>\n      <td>30.349531</td>\n    </tr>\n  </tbody>\n</table>\n<p>68 rows × 2 columns</p>\n</div>"
     },
     "metadata": {},
     "execution_count": 25
    }
   ],
   "source": [
    "MH_missing"
   ]
  },
  {
   "cell_type": "code",
   "execution_count": null,
   "metadata": {},
   "outputs": [],
   "source": []
  }
 ]
}